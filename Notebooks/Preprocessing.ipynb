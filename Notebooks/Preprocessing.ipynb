{
 "cells": [
  {
   "cell_type": "markdown",
   "id": "7ec2e2fb",
   "metadata": {},
   "source": [
    "# Preprocessing the MTA Hourly Dataset from Kaggle\n",
    "\n",
    "## Initial Steps\n",
    "\n",
    "### Imports and Loading the CSV:\n",
    "\n",
    "We start by importing all the libraries we'll need. I'm also going to create a function to load the CSV in."
   ]
  },
  {
   "cell_type": "code",
   "execution_count": 27,
   "id": "22025bea",
   "metadata": {},
   "outputs": [],
   "source": [
    "#All datascience imports\n",
    "import pandas as pd\n",
    "import numpy as np\n",
    "import os\n",
    "import pickle\n",
    "import matplotlib.pyplot as plt\n",
    "import seaborn as sns\n",
    "import datetime"
   ]
  },
  {
   "cell_type": "code",
   "execution_count": null,
   "id": "2290d63e",
   "metadata": {},
   "outputs": [],
   "source": [
    "#Function to load CSV\n",
    "def load_csv(file_name):\n",
    "    \"\"\"\n",
    "    Load a CSV file from the 'CSVs' folder into a pandas DataFrame.\n",
    "    \"\"\"\n",
    "    try:\n",
    "        file_path = os.path.join(\"..\", \"CSVs\", file_name)\n",
    "        df = pd.read_csv(file_path)\n",
    "        print(f\"CSV file '{file_path}' loaded successfully.\")\n",
    "        return df\n",
    "    except Exception as e:\n",
    "        print(f\"Error loading CSV file: {e}\")\n",
    "        return None"
   ]
  },
  {
   "cell_type": "code",
   "execution_count": 29,
   "id": "97de8f35",
   "metadata": {},
   "outputs": [
    {
     "name": "stderr",
     "output_type": "stream",
     "text": [
      "C:\\Users\\Esh\\AppData\\Local\\Temp\\ipykernel_29000\\1242278213.py:13: DtypeWarning: Columns (2) have mixed types. Specify dtype option on import or set low_memory=False.\n",
      "  df = pd.read_csv(file_path)\n"
     ]
    },
    {
     "name": "stdout",
     "output_type": "stream",
     "text": [
      "CSV file 'data.csv' loaded successfully.\n"
     ]
    }
   ],
   "source": [
    "#Load the CSV file renamed to 'data.csv' from the current directory\n",
    "csv_file_path = 'data.csv'\n",
    "raw_data = load_csv(csv_file_path)"
   ]
  },
  {
   "cell_type": "markdown",
   "id": "a4bf5e69",
   "metadata": {},
   "source": [
    "### Taking a Look at our Data:\n",
    "\n",
    "We've got a large dataset, and we're already getting a DtypeWarning from columns having mixed types. This next step involves us peeking into the dataset, and seeing what we've got."
   ]
  },
  {
   "cell_type": "code",
   "execution_count": 30,
   "id": "fff5b5c2",
   "metadata": {},
   "outputs": [
    {
     "name": "stdout",
     "output_type": "stream",
     "text": [
      "DataFrame Head:\n",
      "        transit_timestamp transit_mode station_complex_id  \\\n",
      "0  09/23/2023 05:00:00 AM       subway                185   \n",
      "1  09/23/2023 05:00:00 PM       subway                131   \n",
      "2  05/13/2023 09:00:00 AM       subway                173   \n",
      "3  05/13/2023 10:00:00 PM       subway                135   \n",
      "4  05/13/2023 12:00:00 PM       subway                349   \n",
      "\n",
      "               station_complex   borough payment_method  \\\n",
      "0               Liberty Av (C)  Brooklyn           omny   \n",
      "1  Bushwick Av-Aberdeen St (L)  Brooklyn      metrocard   \n",
      "2                High St (A,C)  Brooklyn           omny   \n",
      "3               Livonia Av (L)  Brooklyn      metrocard   \n",
      "4                Junius St (3)  Brooklyn      metrocard   \n",
      "\n",
      "            fare_class_category  ridership  transfers   latitude  longitude  \\\n",
      "0   OMNY - Seniors & Disability          1          0  40.674540 -73.896545   \n",
      "1  Metrocard - Unlimited 30-Day          4          0  40.682830 -73.905250   \n",
      "2              OMNY - Full Fare         82          0  40.699337 -73.990530   \n",
      "3  Metrocard - Unlimited 30-Day          5          0  40.664040 -73.900570   \n",
      "4         Metrocard - Full Fare          7          4  40.663513 -73.902450   \n",
      "\n",
      "                  Georeference  \n",
      "0  POINT (-73.896545 40.67454)  \n",
      "1   POINT (-73.90525 40.68283)  \n",
      "2  POINT (-73.99053 40.699337)  \n",
      "3   POINT (-73.90057 40.66404)  \n",
      "4  POINT (-73.90245 40.663513)  \n",
      "\n",
      "DataFrame Tail:\n",
      "               transit_timestamp transit_mode station_complex_id  \\\n",
      "51208974  12/02/2023 09:00:00 PM       subway                  8   \n",
      "51208975  12/02/2023 01:00:00 PM       subway                  8   \n",
      "51208976  12/02/2023 08:00:00 PM       subway                  8   \n",
      "51208977  12/02/2023 07:00:00 PM       subway                  8   \n",
      "51208978  12/02/2023 03:00:00 PM       subway                  8   \n",
      "\n",
      "             station_complex    borough payment_method  \\\n",
      "51208974  5 Av/59 St (N,R,W)  Manhattan      metrocard   \n",
      "51208975  5 Av/59 St (N,R,W)  Manhattan           omny   \n",
      "51208976  5 Av/59 St (N,R,W)  Manhattan           omny   \n",
      "51208977  5 Av/59 St (N,R,W)  Manhattan           omny   \n",
      "51208978  5 Av/59 St (N,R,W)  Manhattan      metrocard   \n",
      "\n",
      "                  fare_class_category  ridership  transfers   latitude  \\\n",
      "51208974        Metrocard - Fair Fare          7          0  40.764812   \n",
      "51208975             OMNY - Full Fare        529         13  40.764812   \n",
      "51208976             OMNY - Full Fare        388          5  40.764812   \n",
      "51208977  OMNY - Seniors & Disability          2          0  40.764812   \n",
      "51208978        Metrocard - Full Fare        254          4  40.764812   \n",
      "\n",
      "          longitude                 Georeference  \n",
      "51208974  -73.97335  POINT (-73.97335 40.764812)  \n",
      "51208975  -73.97335  POINT (-73.97335 40.764812)  \n",
      "51208976  -73.97335  POINT (-73.97335 40.764812)  \n",
      "51208977  -73.97335  POINT (-73.97335 40.764812)  \n",
      "51208978  -73.97335  POINT (-73.97335 40.764812)  \n",
      "\n",
      "DataFrame Info:\n",
      "<class 'pandas.core.frame.DataFrame'>\n",
      "RangeIndex: 51208979 entries, 0 to 51208978\n",
      "Data columns (total 12 columns):\n",
      " #   Column               Dtype  \n",
      "---  ------               -----  \n",
      " 0   transit_timestamp    object \n",
      " 1   transit_mode         object \n",
      " 2   station_complex_id   object \n",
      " 3   station_complex      object \n",
      " 4   borough              object \n",
      " 5   payment_method       object \n",
      " 6   fare_class_category  object \n",
      " 7   ridership            int64  \n",
      " 8   transfers            int64  \n",
      " 9   latitude             float64\n",
      " 10  longitude            float64\n",
      " 11  Georeference         object \n",
      "dtypes: float64(2), int64(2), object(8)\n",
      "memory usage: 4.6+ GB\n",
      "None\n",
      "\n",
      "DataFrame Description:\n",
      "          ridership     transfers      latitude     longitude\n",
      "count  5.120898e+07  5.120898e+07  5.120898e+07  5.120898e+07\n",
      "mean   4.474880e+01  1.873733e+00  4.073220e+01 -7.393527e+01\n",
      "std    1.468782e+02  1.169616e+01  7.829644e-02  5.616677e-02\n",
      "min    1.000000e+00  0.000000e+00  4.057613e+01 -7.407484e+01\n",
      "25%    4.000000e+00  0.000000e+00  4.067732e+01 -7.398133e+01\n",
      "50%    1.200000e+01  0.000000e+00  4.072433e+01 -7.394748e+01\n",
      "75%    3.500000e+01  1.000000e+00  4.079164e+01 -7.389948e+01\n",
      "max    1.424300e+04  1.253000e+03  4.090313e+01 -7.375540e+01\n",
      "\n",
      "DataFrame Columns:\n",
      "Index(['transit_timestamp', 'transit_mode', 'station_complex_id',\n",
      "       'station_complex', 'borough', 'payment_method', 'fare_class_category',\n",
      "       'ridership', 'transfers', 'latitude', 'longitude', 'Georeference'],\n",
      "      dtype='object')\n"
     ]
    }
   ],
   "source": [
    "#Look into the data now by creating a function to display all the types of initial statistics such as head, tail, info, and describe and more.\n",
    "def display_data_info(df):\n",
    "    \"\"\"\n",
    "    Display various statistics and information about the DataFrame.\n",
    "    \n",
    "    Parameters:\n",
    "    df (pd.DataFrame): The DataFrame to analyze.\n",
    "    \"\"\"\n",
    "    print(\"DataFrame Head:\")\n",
    "    print(df.head())\n",
    "    \n",
    "    print(\"\\nDataFrame Tail:\")\n",
    "    print(df.tail())\n",
    "    \n",
    "    print(\"\\nDataFrame Info:\")\n",
    "    print(df.info())\n",
    "    \n",
    "    print(\"\\nDataFrame Description:\")\n",
    "    print(df.describe())\n",
    "    \n",
    "    print(\"\\nDataFrame Columns:\")\n",
    "    print(df.columns)\n",
    "\n",
    "#Taking a Look at our Data:\n",
    "display_data_info(raw_data)"
   ]
  },
  {
   "cell_type": "markdown",
   "id": "91c1ad3e",
   "metadata": {},
   "source": [
    "### Let's Make the Data Easy to Read\n",
    "\n",
    "We're on a zero index right now, and the dataset consists of mainly all strings. It's time to start formatting the data to make it easier to clean."
   ]
  },
  {
   "cell_type": "code",
   "execution_count": 31,
   "id": "f4bac246",
   "metadata": {},
   "outputs": [
    {
     "name": "stdout",
     "output_type": "stream",
     "text": [
      "Modified Data Head:\n"
     ]
    },
    {
     "data": {
      "text/html": [
       "<div>\n",
       "<style scoped>\n",
       "    .dataframe tbody tr th:only-of-type {\n",
       "        vertical-align: middle;\n",
       "    }\n",
       "\n",
       "    .dataframe tbody tr th {\n",
       "        vertical-align: top;\n",
       "    }\n",
       "\n",
       "    .dataframe thead th {\n",
       "        text-align: right;\n",
       "    }\n",
       "</style>\n",
       "<table border=\"1\" class=\"dataframe\">\n",
       "  <thead>\n",
       "    <tr style=\"text-align: right;\">\n",
       "      <th></th>\n",
       "      <th>timestamp</th>\n",
       "      <th>transit_mode</th>\n",
       "      <th>station_id</th>\n",
       "      <th>station</th>\n",
       "      <th>borough</th>\n",
       "      <th>payment_type</th>\n",
       "      <th>fare_class_category</th>\n",
       "      <th>ridership</th>\n",
       "      <th>transfers</th>\n",
       "      <th>latitude</th>\n",
       "      <th>longitude</th>\n",
       "    </tr>\n",
       "  </thead>\n",
       "  <tbody>\n",
       "    <tr>\n",
       "      <th>0</th>\n",
       "      <td>09/23/2023 05:00:00 AM</td>\n",
       "      <td>subway</td>\n",
       "      <td>185</td>\n",
       "      <td>Liberty Av (C)</td>\n",
       "      <td>Brooklyn</td>\n",
       "      <td>omny</td>\n",
       "      <td>OMNY - Seniors &amp; Disability</td>\n",
       "      <td>1</td>\n",
       "      <td>0</td>\n",
       "      <td>40.674540</td>\n",
       "      <td>-73.896545</td>\n",
       "    </tr>\n",
       "    <tr>\n",
       "      <th>1</th>\n",
       "      <td>09/23/2023 05:00:00 PM</td>\n",
       "      <td>subway</td>\n",
       "      <td>131</td>\n",
       "      <td>Bushwick Av-Aberdeen St (L)</td>\n",
       "      <td>Brooklyn</td>\n",
       "      <td>metrocard</td>\n",
       "      <td>Metrocard - Unlimited 30-Day</td>\n",
       "      <td>4</td>\n",
       "      <td>0</td>\n",
       "      <td>40.682830</td>\n",
       "      <td>-73.905250</td>\n",
       "    </tr>\n",
       "    <tr>\n",
       "      <th>2</th>\n",
       "      <td>05/13/2023 09:00:00 AM</td>\n",
       "      <td>subway</td>\n",
       "      <td>173</td>\n",
       "      <td>High St (A,C)</td>\n",
       "      <td>Brooklyn</td>\n",
       "      <td>omny</td>\n",
       "      <td>OMNY - Full Fare</td>\n",
       "      <td>82</td>\n",
       "      <td>0</td>\n",
       "      <td>40.699337</td>\n",
       "      <td>-73.990530</td>\n",
       "    </tr>\n",
       "    <tr>\n",
       "      <th>3</th>\n",
       "      <td>05/13/2023 10:00:00 PM</td>\n",
       "      <td>subway</td>\n",
       "      <td>135</td>\n",
       "      <td>Livonia Av (L)</td>\n",
       "      <td>Brooklyn</td>\n",
       "      <td>metrocard</td>\n",
       "      <td>Metrocard - Unlimited 30-Day</td>\n",
       "      <td>5</td>\n",
       "      <td>0</td>\n",
       "      <td>40.664040</td>\n",
       "      <td>-73.900570</td>\n",
       "    </tr>\n",
       "    <tr>\n",
       "      <th>4</th>\n",
       "      <td>05/13/2023 12:00:00 PM</td>\n",
       "      <td>subway</td>\n",
       "      <td>349</td>\n",
       "      <td>Junius St (3)</td>\n",
       "      <td>Brooklyn</td>\n",
       "      <td>metrocard</td>\n",
       "      <td>Metrocard - Full Fare</td>\n",
       "      <td>7</td>\n",
       "      <td>4</td>\n",
       "      <td>40.663513</td>\n",
       "      <td>-73.902450</td>\n",
       "    </tr>\n",
       "  </tbody>\n",
       "</table>\n",
       "</div>"
      ],
      "text/plain": [
       "                timestamp transit_mode station_id  \\\n",
       "0  09/23/2023 05:00:00 AM       subway        185   \n",
       "1  09/23/2023 05:00:00 PM       subway        131   \n",
       "2  05/13/2023 09:00:00 AM       subway        173   \n",
       "3  05/13/2023 10:00:00 PM       subway        135   \n",
       "4  05/13/2023 12:00:00 PM       subway        349   \n",
       "\n",
       "                       station   borough payment_type  \\\n",
       "0               Liberty Av (C)  Brooklyn         omny   \n",
       "1  Bushwick Av-Aberdeen St (L)  Brooklyn    metrocard   \n",
       "2                High St (A,C)  Brooklyn         omny   \n",
       "3               Livonia Av (L)  Brooklyn    metrocard   \n",
       "4                Junius St (3)  Brooklyn    metrocard   \n",
       "\n",
       "            fare_class_category  ridership  transfers   latitude  longitude  \n",
       "0   OMNY - Seniors & Disability          1          0  40.674540 -73.896545  \n",
       "1  Metrocard - Unlimited 30-Day          4          0  40.682830 -73.905250  \n",
       "2              OMNY - Full Fare         82          0  40.699337 -73.990530  \n",
       "3  Metrocard - Unlimited 30-Day          5          0  40.664040 -73.900570  \n",
       "4         Metrocard - Full Fare          7          4  40.663513 -73.902450  "
      ]
     },
     "execution_count": 31,
     "metadata": {},
     "output_type": "execute_result"
    }
   ],
   "source": [
    "# Make a working copy so the original stays untouched\n",
    "modded_data = raw_data.copy()\n",
    "\n",
    "# Normalize headers to snake_case\n",
    "modded_data.columns = (\n",
    "    modded_data.columns\n",
    "      .str.strip()\n",
    "      .str.lower()\n",
    "      .str.replace(\" \", \"_\")\n",
    "      .str.replace(r\"[^\\w]+\", \"_\", regex=True)\n",
    "      .str.strip(\"_\")\n",
    ")\n",
    "\n",
    "# Rename to proper name we can use later\n",
    "rename_map = {\n",
    "    \"transit_timestamp\": \"timestamp\",\n",
    "    \"station_complex_id\": \"station_id\",\n",
    "    \"station_complex\": \"station\",\n",
    "    \"payment_method\": \"payment_type\"\n",
    "}\n",
    "modded_data = modded_data.rename(columns=rename_map)\n",
    "\n",
    "# We don't need the georeference column for our analysis because it's essentially a duplicate of latitude and longitude\n",
    "if \"georeference\" in modded_data.columns:\n",
    "    modded_data = modded_data.drop(columns=[\"georeference\"])\n",
    "\n",
    "# Let's take a look at the first few rows of the modified data\n",
    "print(\"Modified Data Head:\")\n",
    "modded_data.head()"
   ]
  },
  {
   "cell_type": "markdown",
   "id": "ac3905bb",
   "metadata": {},
   "source": [
    "The data already looks clean, but the formatting is still not the best it can be. We have a timestamp in a string, but we can convert that to date time format as well for easier parsing."
   ]
  },
  {
   "cell_type": "code",
   "execution_count": 32,
   "id": "e9d4d246",
   "metadata": {},
   "outputs": [],
   "source": [
    "#Convert timestamp to datetime format\n",
    "modded_data['timestamp'] = pd.to_datetime(modded_data['timestamp'], errors='coerce')"
   ]
  },
  {
   "cell_type": "code",
   "execution_count": 33,
   "id": "cfba8841",
   "metadata": {},
   "outputs": [
    {
     "name": "stdout",
     "output_type": "stream",
     "text": [
      "Modified Data Head:\n"
     ]
    },
    {
     "data": {
      "text/html": [
       "<div>\n",
       "<style scoped>\n",
       "    .dataframe tbody tr th:only-of-type {\n",
       "        vertical-align: middle;\n",
       "    }\n",
       "\n",
       "    .dataframe tbody tr th {\n",
       "        vertical-align: top;\n",
       "    }\n",
       "\n",
       "    .dataframe thead th {\n",
       "        text-align: right;\n",
       "    }\n",
       "</style>\n",
       "<table border=\"1\" class=\"dataframe\">\n",
       "  <thead>\n",
       "    <tr style=\"text-align: right;\">\n",
       "      <th></th>\n",
       "      <th>timestamp</th>\n",
       "      <th>transit_mode</th>\n",
       "      <th>station_id</th>\n",
       "      <th>station</th>\n",
       "      <th>borough</th>\n",
       "      <th>payment_type</th>\n",
       "      <th>fare_class_category</th>\n",
       "      <th>ridership</th>\n",
       "      <th>transfers</th>\n",
       "      <th>latitude</th>\n",
       "      <th>longitude</th>\n",
       "    </tr>\n",
       "  </thead>\n",
       "  <tbody>\n",
       "    <tr>\n",
       "      <th>0</th>\n",
       "      <td>2023-09-23 05:00:00</td>\n",
       "      <td>subway</td>\n",
       "      <td>185</td>\n",
       "      <td>Liberty Av (C)</td>\n",
       "      <td>Brooklyn</td>\n",
       "      <td>omny</td>\n",
       "      <td>OMNY - Seniors &amp; Disability</td>\n",
       "      <td>1</td>\n",
       "      <td>0</td>\n",
       "      <td>40.674540</td>\n",
       "      <td>-73.896545</td>\n",
       "    </tr>\n",
       "    <tr>\n",
       "      <th>1</th>\n",
       "      <td>2023-09-23 17:00:00</td>\n",
       "      <td>subway</td>\n",
       "      <td>131</td>\n",
       "      <td>Bushwick Av-Aberdeen St (L)</td>\n",
       "      <td>Brooklyn</td>\n",
       "      <td>metrocard</td>\n",
       "      <td>Metrocard - Unlimited 30-Day</td>\n",
       "      <td>4</td>\n",
       "      <td>0</td>\n",
       "      <td>40.682830</td>\n",
       "      <td>-73.905250</td>\n",
       "    </tr>\n",
       "    <tr>\n",
       "      <th>2</th>\n",
       "      <td>2023-05-13 09:00:00</td>\n",
       "      <td>subway</td>\n",
       "      <td>173</td>\n",
       "      <td>High St (A,C)</td>\n",
       "      <td>Brooklyn</td>\n",
       "      <td>omny</td>\n",
       "      <td>OMNY - Full Fare</td>\n",
       "      <td>82</td>\n",
       "      <td>0</td>\n",
       "      <td>40.699337</td>\n",
       "      <td>-73.990530</td>\n",
       "    </tr>\n",
       "    <tr>\n",
       "      <th>3</th>\n",
       "      <td>2023-05-13 22:00:00</td>\n",
       "      <td>subway</td>\n",
       "      <td>135</td>\n",
       "      <td>Livonia Av (L)</td>\n",
       "      <td>Brooklyn</td>\n",
       "      <td>metrocard</td>\n",
       "      <td>Metrocard - Unlimited 30-Day</td>\n",
       "      <td>5</td>\n",
       "      <td>0</td>\n",
       "      <td>40.664040</td>\n",
       "      <td>-73.900570</td>\n",
       "    </tr>\n",
       "    <tr>\n",
       "      <th>4</th>\n",
       "      <td>2023-05-13 12:00:00</td>\n",
       "      <td>subway</td>\n",
       "      <td>349</td>\n",
       "      <td>Junius St (3)</td>\n",
       "      <td>Brooklyn</td>\n",
       "      <td>metrocard</td>\n",
       "      <td>Metrocard - Full Fare</td>\n",
       "      <td>7</td>\n",
       "      <td>4</td>\n",
       "      <td>40.663513</td>\n",
       "      <td>-73.902450</td>\n",
       "    </tr>\n",
       "  </tbody>\n",
       "</table>\n",
       "</div>"
      ],
      "text/plain": [
       "            timestamp transit_mode station_id                      station  \\\n",
       "0 2023-09-23 05:00:00       subway        185               Liberty Av (C)   \n",
       "1 2023-09-23 17:00:00       subway        131  Bushwick Av-Aberdeen St (L)   \n",
       "2 2023-05-13 09:00:00       subway        173                High St (A,C)   \n",
       "3 2023-05-13 22:00:00       subway        135               Livonia Av (L)   \n",
       "4 2023-05-13 12:00:00       subway        349                Junius St (3)   \n",
       "\n",
       "    borough payment_type           fare_class_category  ridership  transfers  \\\n",
       "0  Brooklyn         omny   OMNY - Seniors & Disability          1          0   \n",
       "1  Brooklyn    metrocard  Metrocard - Unlimited 30-Day          4          0   \n",
       "2  Brooklyn         omny              OMNY - Full Fare         82          0   \n",
       "3  Brooklyn    metrocard  Metrocard - Unlimited 30-Day          5          0   \n",
       "4  Brooklyn    metrocard         Metrocard - Full Fare          7          4   \n",
       "\n",
       "    latitude  longitude  \n",
       "0  40.674540 -73.896545  \n",
       "1  40.682830 -73.905250  \n",
       "2  40.699337 -73.990530  \n",
       "3  40.664040 -73.900570  \n",
       "4  40.663513 -73.902450  "
      ]
     },
     "execution_count": 33,
     "metadata": {},
     "output_type": "execute_result"
    }
   ],
   "source": [
    "print(\"Modified Data Head:\")\n",
    "modded_data.head()"
   ]
  },
  {
   "cell_type": "markdown",
   "id": "c09b465f",
   "metadata": {},
   "source": [
    "### Fixing other Column dtypes\n",
    "\n",
    "timestamp looks good, but lets check to make sure all other columns are what they're supposed to be. We have a lot of numeric columns, so lets ensure they parse numeric."
   ]
  },
  {
   "cell_type": "code",
   "execution_count": 34,
   "id": "6541c360",
   "metadata": {},
   "outputs": [
    {
     "name": "stdout",
     "output_type": "stream",
     "text": [
      "Column Data Types:\n",
      "timestamp              datetime64[ns]\n",
      "transit_mode                   object\n",
      "station_id                     object\n",
      "station                        object\n",
      "borough                        object\n",
      "payment_type                   object\n",
      "fare_class_category            object\n",
      "ridership                       int64\n",
      "transfers                       int64\n",
      "latitude                      float64\n",
      "longitude                     float64\n",
      "dtype: object\n"
     ]
    }
   ],
   "source": [
    "#Get dtypes of all columns\n",
    "print(\"Column Data Types:\")\n",
    "print(modded_data.dtypes)"
   ]
  },
  {
   "cell_type": "code",
   "execution_count": 35,
   "id": "eb85f8a0",
   "metadata": {},
   "outputs": [],
   "source": [
    "for col in [\"ridership\", \"transfers\", \"latitude\", \"longitude\"]:\n",
    "    if col in modded_data.columns:\n",
    "        modded_data[col] = pd.to_numeric(modded_data[col], errors=\"coerce\")\n",
    "\n",
    "cat_cols = [\"transit_mode\", \"station_id\", \"station\", \"borough\", \"payment_type\", \"fare_class_category\"]\n",
    "for col in cat_cols:\n",
    "    if col in modded_data.columns:\n",
    "        modded_data[col] = modded_data[col].astype(\"category\")"
   ]
  },
  {
   "cell_type": "code",
   "execution_count": 36,
   "id": "5a862bd5",
   "metadata": {},
   "outputs": [
    {
     "name": "stdout",
     "output_type": "stream",
     "text": [
      "Column Data Types:\n",
      "timestamp              datetime64[ns]\n",
      "transit_mode                 category\n",
      "station_id                   category\n",
      "station                      category\n",
      "borough                      category\n",
      "payment_type                 category\n",
      "fare_class_category          category\n",
      "ridership                       int64\n",
      "transfers                       int64\n",
      "latitude                      float64\n",
      "longitude                     float64\n",
      "dtype: object\n"
     ]
    }
   ],
   "source": [
    "#Get dtypes of all columns\n",
    "print(\"Column Data Types:\")\n",
    "print(modded_data.dtypes)"
   ]
  },
  {
   "cell_type": "markdown",
   "id": "37ba1116",
   "metadata": {},
   "source": [
    "### Cleaning up Duplicates (if any)\n",
    "\n",
    "We've set up our categorical and numerical columns. This next step is just to ensure we don't have any duplicates.\n",
    "\n",
    "I initially attempted to drop duplicates as-is, but found that there are 36M potential duplicate rows in our key columns. So to better understand this, we need to go into our duplicates and see what we're looking at."
   ]
  },
  {
   "cell_type": "code",
   "execution_count": 37,
   "id": "a3360c71",
   "metadata": {},
   "outputs": [
    {
     "name": "stdout",
     "output_type": "stream",
     "text": [
      "Exact duplicate rows removed: 0\n"
     ]
    }
   ],
   "source": [
    "# Remove rows that are byte-for-byte identical (safe)\n",
    "before = len(modded_data)\n",
    "modded_data = modded_data.drop_duplicates()\n",
    "print(f\"Exact duplicate rows removed: {before - len(modded_data):,}\")"
   ]
  },
  {
   "cell_type": "markdown",
   "id": "f2e58f41",
   "metadata": {},
   "source": [
    "With no exact duplicate rows found, we need to aggregate across fare classes. This is where I currently suspect the \"duplicate data\" is located."
   ]
  },
  {
   "cell_type": "code",
   "execution_count": null,
   "id": "398b5bb6",
   "metadata": {},
   "outputs": [
    {
     "name": "stdout",
     "output_type": "stream",
     "text": [
      "Rows after summing fare classes: 14,708,658\n"
     ]
    }
   ],
   "source": [
    "agg = (\n",
    "    modded_data\n",
    "      .groupby([\"station_id\",\"station\",\"borough\",\"timestamp\",\"payment_type\"], as_index=False, observed=True)[\"ridership\"]\n",
    "      .sum()\n",
    ")\n",
    "print(\"Rows after summing fare classes:\", f\"{len(agg):,}\")"
   ]
  },
  {
   "cell_type": "markdown",
   "id": "7476adc7",
   "metadata": {},
   "source": [
    "This concurs with the removal of \"duplicate data\" I had initially."
   ]
  },
  {
   "cell_type": "code",
   "execution_count": 39,
   "id": "ee960e8e",
   "metadata": {},
   "outputs": [
    {
     "name": "stdout",
     "output_type": "stream",
     "text": [
      "Original sum: 2291540464\n",
      "Aggregated sum: 2291540464\n"
     ]
    }
   ],
   "source": [
    "print(\"Original sum:\", modded_data[\"ridership\"].sum())\n",
    "print(\"Aggregated sum:\", agg[\"ridership\"].sum())"
   ]
  },
  {
   "cell_type": "markdown",
   "id": "9a2475e7",
   "metadata": {},
   "source": [
    "No ridership lost! It's time to build our wide table."
   ]
  },
  {
   "cell_type": "markdown",
   "id": "b8561b0e",
   "metadata": {},
   "source": [
    "## Wide Formatting\n",
    "\n",
    "### Table Manipulation\n",
    "\n",
    "So we've got our modded_Data for a long table format, but for the purpose of our capstone, we need a wide table for forecasting. We need to approach with caution. My initial attempt resulted in a MemoryError. \n",
    "**(Can't forget we have 14M rows!)**"
   ]
  },
  {
   "cell_type": "code",
   "execution_count": 40,
   "id": "9556feab",
   "metadata": {},
   "outputs": [
    {
     "name": "stdout",
     "output_type": "stream",
     "text": [
      "Total ridership data shape: (7614788, 5)\n"
     ]
    }
   ],
   "source": [
    "agg_data = agg.copy() #I prefer the naming convention of agg_data for clarity, plus we have a copy of the original data in case we need it later\n",
    "\n",
    "totals = (\n",
    "    agg_data.groupby([\"station_id\",\"station\",\"borough\",\"timestamp\"], as_index=False, observed=True)[\"ridership\"]\n",
    "        .sum()\n",
    "        .rename(columns={\"ridership\":\"ridership_total\"})\n",
    ") #Ridership totals across all fare classes\n",
    "\n",
    "print(\"Total ridership data shape:\", totals.shape)"
   ]
  },
  {
   "cell_type": "code",
   "execution_count": 42,
   "id": "b105ea57",
   "metadata": {},
   "outputs": [
    {
     "name": "stdout",
     "output_type": "stream",
     "text": [
      "totals rows: 7614788\n"
     ]
    }
   ],
   "source": [
    "# Work from the fare-class-aggregated frame\n",
    "data = agg_data.copy()\n",
    "\n",
    "\n",
    "KEYS = [\"station_id\",\"station\",\"borough\",\"timestamp\"]\n",
    "\n",
    "# Total ridership per station-hour (target for modeling)\n",
    "totals = (\n",
    "    data.groupby(KEYS, observed=True, sort=False)[\"ridership\"]\n",
    "        .sum()\n",
    "        .rename(\"ridership_total\")\n",
    "        .reset_index()\n",
    ")\n",
    "print(\"totals rows:\", len(totals))\n"
   ]
  },
  {
   "cell_type": "markdown",
   "id": "cb772292",
   "metadata": {},
   "source": [
    "Let's gradually add in our per payment columns."
   ]
  },
  {
   "cell_type": "code",
   "execution_count": 43,
   "id": "77266efb",
   "metadata": {},
   "outputs": [
    {
     "name": "stdout",
     "output_type": "stream",
     "text": [
      "wide rows: 7614788 | columns: 7\n"
     ]
    },
    {
     "data": {
      "text/html": [
       "<div>\n",
       "<style scoped>\n",
       "    .dataframe tbody tr th:only-of-type {\n",
       "        vertical-align: middle;\n",
       "    }\n",
       "\n",
       "    .dataframe tbody tr th {\n",
       "        vertical-align: top;\n",
       "    }\n",
       "\n",
       "    .dataframe thead th {\n",
       "        text-align: right;\n",
       "    }\n",
       "</style>\n",
       "<table border=\"1\" class=\"dataframe\">\n",
       "  <thead>\n",
       "    <tr style=\"text-align: right;\">\n",
       "      <th></th>\n",
       "      <th>station_id</th>\n",
       "      <th>station</th>\n",
       "      <th>borough</th>\n",
       "      <th>timestamp</th>\n",
       "      <th>ridership_total</th>\n",
       "      <th>ridership</th>\n",
       "      <th>ridership_omny</th>\n",
       "    </tr>\n",
       "  </thead>\n",
       "  <tbody>\n",
       "    <tr>\n",
       "      <th>0</th>\n",
       "      <td>1</td>\n",
       "      <td>Astoria-Ditmars Blvd (N,W)</td>\n",
       "      <td>Queens</td>\n",
       "      <td>2022-05-18 00:00:00</td>\n",
       "      <td>42</td>\n",
       "      <td>27.0</td>\n",
       "      <td>15.0</td>\n",
       "    </tr>\n",
       "    <tr>\n",
       "      <th>1</th>\n",
       "      <td>1</td>\n",
       "      <td>Astoria-Ditmars Blvd (N,W)</td>\n",
       "      <td>Queens</td>\n",
       "      <td>2022-05-18 01:00:00</td>\n",
       "      <td>11</td>\n",
       "      <td>9.0</td>\n",
       "      <td>2.0</td>\n",
       "    </tr>\n",
       "    <tr>\n",
       "      <th>2</th>\n",
       "      <td>1</td>\n",
       "      <td>Astoria-Ditmars Blvd (N,W)</td>\n",
       "      <td>Queens</td>\n",
       "      <td>2022-05-18 02:00:00</td>\n",
       "      <td>5</td>\n",
       "      <td>4.0</td>\n",
       "      <td>1.0</td>\n",
       "    </tr>\n",
       "    <tr>\n",
       "      <th>3</th>\n",
       "      <td>1</td>\n",
       "      <td>Astoria-Ditmars Blvd (N,W)</td>\n",
       "      <td>Queens</td>\n",
       "      <td>2022-05-18 03:00:00</td>\n",
       "      <td>20</td>\n",
       "      <td>15.0</td>\n",
       "      <td>5.0</td>\n",
       "    </tr>\n",
       "    <tr>\n",
       "      <th>4</th>\n",
       "      <td>1</td>\n",
       "      <td>Astoria-Ditmars Blvd (N,W)</td>\n",
       "      <td>Queens</td>\n",
       "      <td>2022-05-18 04:00:00</td>\n",
       "      <td>57</td>\n",
       "      <td>41.0</td>\n",
       "      <td>16.0</td>\n",
       "    </tr>\n",
       "  </tbody>\n",
       "</table>\n",
       "</div>"
      ],
      "text/plain": [
       "  station_id                     station borough           timestamp  \\\n",
       "0          1  Astoria-Ditmars Blvd (N,W)  Queens 2022-05-18 00:00:00   \n",
       "1          1  Astoria-Ditmars Blvd (N,W)  Queens 2022-05-18 01:00:00   \n",
       "2          1  Astoria-Ditmars Blvd (N,W)  Queens 2022-05-18 02:00:00   \n",
       "3          1  Astoria-Ditmars Blvd (N,W)  Queens 2022-05-18 03:00:00   \n",
       "4          1  Astoria-Ditmars Blvd (N,W)  Queens 2022-05-18 04:00:00   \n",
       "\n",
       "   ridership_total  ridership  ridership_omny  \n",
       "0               42       27.0            15.0  \n",
       "1               11        9.0             2.0  \n",
       "2                5        4.0             1.0  \n",
       "3               20       15.0             5.0  \n",
       "4               57       41.0            16.0  "
      ]
     },
     "execution_count": 43,
     "metadata": {},
     "output_type": "execute_result"
    }
   ],
   "source": [
    "ptypes = list(data[\"payment_type\"].cat.categories)\n",
    "\n",
    "wide = totals\n",
    "\n",
    "for ptype in ptypes:\n",
    "    wide = (\n",
    "        wide.merge(\n",
    "            data[data[\"payment_type\"] == ptype][KEYS + [\"ridership\"]],\n",
    "            on=KEYS,\n",
    "            how=\"left\",\n",
    "            suffixes=(\"\", f\"_{ptype}\")\n",
    "        )\n",
    "    )\n",
    "\n",
    "print(\"wide rows:\", len(wide), \"| columns:\", wide.shape[1])\n",
    "wide.head()"
   ]
  },
  {
   "cell_type": "markdown",
   "id": "2c34affa",
   "metadata": {},
   "source": [
    "Looking back at it, the ridership_total was the only necessary column needed. As useful as it is for regular v.s. omny, our model is strictly focusing on totals. However, this could be adopted for a different model, so it's not bad to know what the ridership_total consists of."
   ]
  },
  {
   "cell_type": "markdown",
   "id": "cbdfc2da",
   "metadata": {},
   "source": [
    "### What time is it now?\n",
    "\n",
    "So now we need to decide if we want to forecast our hourly ridership, or if we want just our daily totals. We can potentially resample the data for daily forecasting, but it'd be a shame to waste data on hourly trends, so let's stick with hourly forecasting.\n",
    "\n",
    "Let's break down our timestamps and see what we have."
   ]
  },
  {
   "cell_type": "code",
   "execution_count": null,
   "id": "768b51af",
   "metadata": {},
   "outputs": [
    {
     "name": "stdout",
     "output_type": "stream",
     "text": [
      "Timed Data Head:\n"
     ]
    },
    {
     "data": {
      "text/html": [
       "<div>\n",
       "<style scoped>\n",
       "    .dataframe tbody tr th:only-of-type {\n",
       "        vertical-align: middle;\n",
       "    }\n",
       "\n",
       "    .dataframe tbody tr th {\n",
       "        vertical-align: top;\n",
       "    }\n",
       "\n",
       "    .dataframe thead th {\n",
       "        text-align: right;\n",
       "    }\n",
       "</style>\n",
       "<table border=\"1\" class=\"dataframe\">\n",
       "  <thead>\n",
       "    <tr style=\"text-align: right;\">\n",
       "      <th></th>\n",
       "      <th>station_id</th>\n",
       "      <th>station</th>\n",
       "      <th>borough</th>\n",
       "      <th>timestamp</th>\n",
       "      <th>ridership_total</th>\n",
       "      <th>ridership</th>\n",
       "      <th>ridership_omny</th>\n",
       "      <th>hour</th>\n",
       "      <th>day</th>\n",
       "      <th>day_of_week</th>\n",
       "      <th>month</th>\n",
       "      <th>year</th>\n",
       "      <th>is_weekend</th>\n",
       "    </tr>\n",
       "  </thead>\n",
       "  <tbody>\n",
       "    <tr>\n",
       "      <th>0</th>\n",
       "      <td>1</td>\n",
       "      <td>Astoria-Ditmars Blvd (N,W)</td>\n",
       "      <td>Queens</td>\n",
       "      <td>2022-05-18 00:00:00</td>\n",
       "      <td>42</td>\n",
       "      <td>27.0</td>\n",
       "      <td>15.0</td>\n",
       "      <td>0</td>\n",
       "      <td>18</td>\n",
       "      <td>2</td>\n",
       "      <td>5</td>\n",
       "      <td>2022</td>\n",
       "      <td>0</td>\n",
       "    </tr>\n",
       "    <tr>\n",
       "      <th>1</th>\n",
       "      <td>1</td>\n",
       "      <td>Astoria-Ditmars Blvd (N,W)</td>\n",
       "      <td>Queens</td>\n",
       "      <td>2022-05-18 01:00:00</td>\n",
       "      <td>11</td>\n",
       "      <td>9.0</td>\n",
       "      <td>2.0</td>\n",
       "      <td>1</td>\n",
       "      <td>18</td>\n",
       "      <td>2</td>\n",
       "      <td>5</td>\n",
       "      <td>2022</td>\n",
       "      <td>0</td>\n",
       "    </tr>\n",
       "    <tr>\n",
       "      <th>2</th>\n",
       "      <td>1</td>\n",
       "      <td>Astoria-Ditmars Blvd (N,W)</td>\n",
       "      <td>Queens</td>\n",
       "      <td>2022-05-18 02:00:00</td>\n",
       "      <td>5</td>\n",
       "      <td>4.0</td>\n",
       "      <td>1.0</td>\n",
       "      <td>2</td>\n",
       "      <td>18</td>\n",
       "      <td>2</td>\n",
       "      <td>5</td>\n",
       "      <td>2022</td>\n",
       "      <td>0</td>\n",
       "    </tr>\n",
       "    <tr>\n",
       "      <th>3</th>\n",
       "      <td>1</td>\n",
       "      <td>Astoria-Ditmars Blvd (N,W)</td>\n",
       "      <td>Queens</td>\n",
       "      <td>2022-05-18 03:00:00</td>\n",
       "      <td>20</td>\n",
       "      <td>15.0</td>\n",
       "      <td>5.0</td>\n",
       "      <td>3</td>\n",
       "      <td>18</td>\n",
       "      <td>2</td>\n",
       "      <td>5</td>\n",
       "      <td>2022</td>\n",
       "      <td>0</td>\n",
       "    </tr>\n",
       "    <tr>\n",
       "      <th>4</th>\n",
       "      <td>1</td>\n",
       "      <td>Astoria-Ditmars Blvd (N,W)</td>\n",
       "      <td>Queens</td>\n",
       "      <td>2022-05-18 04:00:00</td>\n",
       "      <td>57</td>\n",
       "      <td>41.0</td>\n",
       "      <td>16.0</td>\n",
       "      <td>4</td>\n",
       "      <td>18</td>\n",
       "      <td>2</td>\n",
       "      <td>5</td>\n",
       "      <td>2022</td>\n",
       "      <td>0</td>\n",
       "    </tr>\n",
       "  </tbody>\n",
       "</table>\n",
       "</div>"
      ],
      "text/plain": [
       "  station_id                     station borough           timestamp  \\\n",
       "0          1  Astoria-Ditmars Blvd (N,W)  Queens 2022-05-18 00:00:00   \n",
       "1          1  Astoria-Ditmars Blvd (N,W)  Queens 2022-05-18 01:00:00   \n",
       "2          1  Astoria-Ditmars Blvd (N,W)  Queens 2022-05-18 02:00:00   \n",
       "3          1  Astoria-Ditmars Blvd (N,W)  Queens 2022-05-18 03:00:00   \n",
       "4          1  Astoria-Ditmars Blvd (N,W)  Queens 2022-05-18 04:00:00   \n",
       "\n",
       "   ridership_total  ridership  ridership_omny  hour  day  day_of_week  month  \\\n",
       "0               42       27.0            15.0     0   18            2      5   \n",
       "1               11        9.0             2.0     1   18            2      5   \n",
       "2                5        4.0             1.0     2   18            2      5   \n",
       "3               20       15.0             5.0     3   18            2      5   \n",
       "4               57       41.0            16.0     4   18            2      5   \n",
       "\n",
       "   year  is_weekend  \n",
       "0  2022           0  \n",
       "1  2022           0  \n",
       "2  2022           0  \n",
       "3  2022           0  \n",
       "4  2022           0  "
      ]
     },
     "execution_count": 44,
     "metadata": {},
     "output_type": "execute_result"
    }
   ],
   "source": [
    "timed_data = wide.copy()\n",
    "\n",
    "timed_data[\"hour\"] = timed_data[\"timestamp\"].dt.hour\n",
    "timed_data[\"day\"] = timed_data[\"timestamp\"].dt.day\n",
    "timed_data[\"day_of_week\"] = timed_data[\"timestamp\"].dt.dayofweek\n",
    "timed_data[\"month\"] = timed_data[\"timestamp\"].dt.month\n",
    "timed_data[\"year\"] = timed_data[\"timestamp\"].dt.year\n",
    "timed_data[\"is_weekend\"] = timed_data[\"day_of_week\"].isin([5, 6]).astype(int) #an interesting indicator, yes, but it can be useful for forecasting ridership trends on weekends\n",
    "\n",
    "#We just split up our timestamp into better columns for analysis\n",
    "print(\"Timed Data Head:\")\n",
    "timed_data.head()"
   ]
  },
  {
   "cell_type": "code",
   "execution_count": 51,
   "id": "fd34b2ed",
   "metadata": {},
   "outputs": [
    {
     "name": "stdout",
     "output_type": "stream",
     "text": [
      "Timed Data with Holidays Head:   station_id                     station borough           timestamp  \\\n",
      "0          1  Astoria-Ditmars Blvd (N,W)  Queens 2022-05-18 00:00:00   \n",
      "1          1  Astoria-Ditmars Blvd (N,W)  Queens 2022-05-18 01:00:00   \n",
      "2          1  Astoria-Ditmars Blvd (N,W)  Queens 2022-05-18 02:00:00   \n",
      "3          1  Astoria-Ditmars Blvd (N,W)  Queens 2022-05-18 03:00:00   \n",
      "4          1  Astoria-Ditmars Blvd (N,W)  Queens 2022-05-18 04:00:00   \n",
      "\n",
      "   ridership_total  ridership  ridership_omny  hour  day  day_of_week  month  \\\n",
      "0               42       27.0            15.0     0   18            2      5   \n",
      "1               11        9.0             2.0     1   18            2      5   \n",
      "2                5        4.0             1.0     2   18            2      5   \n",
      "3               20       15.0             5.0     3   18            2      5   \n",
      "4               57       41.0            16.0     4   18            2      5   \n",
      "\n",
      "   year  is_weekend  is_holiday  \n",
      "0  2022           0           0  \n",
      "1  2022           0           0  \n",
      "2  2022           0           0  \n",
      "3  2022           0           0  \n",
      "4  2022           0           0  \n",
      "Is Holiday Column Unique Values: [0 1]\n"
     ]
    }
   ],
   "source": [
    "#One thing I wanted to test out is the holidays indicator as well.\n",
    "#We can use the holidays package to get a list of holidays in the US, and then create a boolean column indicating if the date is a holiday or not.\n",
    "import holidays\n",
    "us_holidays = holidays.US(years=timed_data[\"year\"].unique().tolist())\n",
    "timed_data[\"is_holiday\"] = timed_data[\"timestamp\"].dt.date.isin(us_holidays).astype(int)\n",
    "\n",
    "print(\"Timed Data with Holidays Head:\", timed_data.head())\n",
    "\n",
    "\n",
    "#check if the is_holiday column is working correctly\n",
    "print(\"Is Holiday Column Unique Values:\", timed_data[\"is_holiday\"].unique())"
   ]
  },
  {
   "cell_type": "markdown",
   "id": "4680eebb",
   "metadata": {},
   "source": [
    "## Final Analysis\n",
    "\n",
    "### What We Did\n",
    "\n",
    "In this stage of preprocessing, we worked through several key transformations to make the raw subway ridership data usable for analysis and forecasting. The dataset originally contained over fifty million entries and that is very suffocating, with each record tied to a particular fare class and payment method. To reduce redundancy and create a cleaner structure, we first removed duplicates and aggregated across fare classes, which brought the dataset down to about 14.7 million rows while still preserving the full ridership totals. This step ensured that the information we kept was unique\n",
    "\n",
    "After fixing the time dimension, we reshaped the data into a wide format by pivoting payment types into their own columns. This means that each row now corresponds to a station and an hour, with ridership broken down into totals, MetroCard entries, and OMNY entries for our forecasting models.\n",
    "\n",
    "### Why We Did\n",
    "\n",
    "The decisions we made in this stage all had one goal: to simplify the dataset into a  model-ready format without losing any potentially important detail, and giving us more inferences from what we have. The cleaned and reshaped data now reflects the real points of analysis.\n",
    "\n",
    "### What's Next\n",
    "\n",
    "The data above should be ready for our model to train on. So this concludes this part of the capstone with me exporting our final table as another csv to use. "
   ]
  },
  {
   "cell_type": "code",
   "execution_count": null,
   "id": "b9684dc0",
   "metadata": {},
   "outputs": [
    {
     "name": "stdout",
     "output_type": "stream",
     "text": [
      "DataFrame saved to 'processed_data.csv' successfully.\n",
      "DataFrame saved to 'wide_data.csv' successfully.\n"
     ]
    }
   ],
   "source": [
    "#Create the function to save the CSVs we've made.\n",
    "def save_csv(df, file_name):\n",
    "    \"\"\"\n",
    "    Save a DataFrame to a CSV file inside the 'CSVs' folder.\n",
    "    \"\"\"\n",
    "    try:\n",
    "        file_path = os.path.join(\"..\", \"CSVs\", file_name)  # go up one dir from Notebooks/\n",
    "        df.to_csv(file_path, index=False)\n",
    "        print(f\"DataFrame saved to '{file_path}' successfully.\")\n",
    "    except Exception as e:\n",
    "        print(f\"Error saving DataFrame to CSV: {e}\")\n",
    "\n",
    "# Save the processed DataFrame to a CSV file\n",
    "save_csv(timed_data, 'processed_data.csv')\n",
    "# Save the wide DataFrame to a CSV file\n",
    "save_csv(wide, 'wide_data.csv')"
   ]
  }
 ],
 "metadata": {
  "kernelspec": {
   "display_name": "base",
   "language": "python",
   "name": "python3"
  },
  "language_info": {
   "codemirror_mode": {
    "name": "ipython",
    "version": 3
   },
   "file_extension": ".py",
   "mimetype": "text/x-python",
   "name": "python",
   "nbconvert_exporter": "python",
   "pygments_lexer": "ipython3",
   "version": "3.12.7"
  }
 },
 "nbformat": 4,
 "nbformat_minor": 5
}
